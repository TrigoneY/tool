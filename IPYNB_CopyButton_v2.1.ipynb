{
 "cells": [
  {
   "cell_type": "code",
   "execution_count": 5,
   "id": "9c38fe6c-a45b-457a-82d4-46da4b57a4fa",
   "metadata": {},
   "outputs": [],
   "source": [
    "## -*- coding: utf-8 -*-\n",
    "#\"\"\"\n",
    "#Created on Tue Aug 15 16:54:53 2023\n",
    "#\n",
    "#@author: TrigoneY\n",
    "#\"\"\""
   ]
  },
  {
   "cell_type": "code",
   "execution_count": 6,
   "id": "b57a829b-3760-4e2f-8654-1850b93d6563",
   "metadata": {},
   "outputs": [],
   "source": [
    "import pyperclip \n",
    "pyperclip.copy('''\n",
    "<button class=\"copy-button\"> \n",
    "    <i class=\"fas fa-copy\"></i>\n",
    "    <span class=\"button-text\">Copy code</span>\n",
    "</button>\n",
    "''') # locally run this cell for copy a button html to your clip"
   ]
  },
  {
   "cell_type": "code",
   "execution_count": 7,
   "id": "4bcaf18b-ca41-4afc-87d4-984438e932dc",
   "metadata": {
    "tags": []
   },
   "outputs": [
    {
     "data": {
      "text/html": [
       "<style>\n",
       ".copy-button {\n",
       "    color: rgba(0, 0, 0, 0.67);\n",
       "    position: absolute;\n",
       "    top: 1px;\n",
       "    left: 2px;\n",
       "    background-color: transparent;\n",
       "    border: none;\n",
       "    cursor: pointer;\n",
       "    outline: none;\n",
       "    padding: 5px;\n",
       "}\n",
       "\n",
       ".copy-button:hover {\n",
       "    background: #eeeeee;\n",
       "}\n",
       "\n",
       "\n",
       ".button-text {\n",
       "  position: relative;\n",
       "  top: -1px;\n",
       "  font-family: 'Microsoft YaHei', sans-serif;\n",
       "}\n",
       "\n",
       ".fa-copy:before {\n",
       "    content: \"\\f0c5\";\n",
       "}\n",
       "\n",
       ".copy-button:active .button-text::after {\n",
       "  content: \"Copied\";\n",
       "  color: rgba(0, 0, 0, 0.87);\n",
       "  font-weight: 700;\n",
       "  position: absolute;\n",
       "  left: 10px;\n",
       "}\n",
       "\n",
       ".copy-button:active {\n",
       "  background: rgba(167, 182, 194, 0.3);\n",
       "  top: 1px;\n",
       "  left: 2px;\n",
       "  color: rgba(255, 0, 0, 0.0);\n",
       "}\n",
       ".copy-button:active .fa-copy:before {\n",
       "  color: rgba(0, 0, 0, 0.87);\n",
       "  content: \"\\2713\";\n",
       "}\n",
       "</style>\n"
      ],
      "text/plain": [
       "<IPython.core.display.HTML object>"
      ]
     },
     "metadata": {},
     "output_type": "display_data"
    }
   ],
   "source": [
    "%%html\n",
    "<style>\n",
    ".copy-button {\n",
    "    color: rgba(0, 0, 0, 0.67);\n",
    "    position: absolute;\n",
    "    top: 1px;\n",
    "    left: 2px;\n",
    "    background-color: transparent;\n",
    "    border: none;\n",
    "    cursor: pointer;\n",
    "    outline: none;\n",
    "    padding: 5px;\n",
    "}\n",
    "\n",
    ".copy-button:hover {\n",
    "    background: #eeeeee;\n",
    "}\n",
    "\n",
    "\n",
    ".button-text {\n",
    "  position: relative;\n",
    "  top: -1px;\n",
    "  font-family: 'Microsoft YaHei', sans-serif;\n",
    "}\n",
    "\n",
    ".fa-copy:before {\n",
    "    content: \"\\f0c5\";\n",
    "}\n",
    "\n",
    ".copy-button:active .button-text::after {\n",
    "  content: \"Copied\";\n",
    "  color: rgba(0, 0, 0, 0.87);\n",
    "  font-weight: 700;\n",
    "  position: absolute;\n",
    "  left: 10px;\n",
    "}\n",
    "\n",
    ".copy-button:active {\n",
    "  background: rgba(167, 182, 194, 0.3);\n",
    "  top: 1px;\n",
    "  left: 2px;\n",
    "  color: rgba(255, 0, 0, 0.0);\n",
    "}\n",
    ".copy-button:active .fa-copy:before {\n",
    "  color: rgba(0, 0, 0, 0.87);\n",
    "  content: \"\\2713\";\n",
    "}\n",
    "</style>"
   ]
  },
  {
   "cell_type": "code",
   "execution_count": 16,
   "id": "60f03959-d180-4df6-964e-e7579c1b2a55",
   "metadata": {
    "tags": []
   },
   "outputs": [
    {
     "data": {
      "application/javascript": [
       "window.copyToClipboard = function(text) {\n",
       "    //alert(text);\n",
       "    const input = document.createElement('textarea');\n",
       "    input.value = text;\n",
       "    document.body.appendChild(input)\n",
       "    input.select();\n",
       "    document.execCommand('copy');\n",
       "    document.body.removeChild(input);\n",
       "}\n",
       "\n",
       "\n",
       "let observer = new MutationObserver(function(mutations) {\n",
       "  mutations.forEach(function(mutation) {\n",
       "    if (mutation.addedNodes.length == 1) {\n",
       "      let node = mutation.addedNodes[0];\n",
       "      try{if (node.dataset.mimeType == \"text/markdown\") {\n",
       "        setTimeout(function() {\n",
       "          node.querySelector(\".copy-button\")\n",
       "              .setAttribute('onclick', 'copyToClipboard(this.previousElementSibling.innerText)');\n",
       "        }, 100);  // may it need more delay if met fail for setAttribute to null\n",
       "      }}catch{}\n",
       "    }\n",
       "  });\n",
       "});\n",
       "\n",
       "observer.observe(document.querySelector('#jp-main-dock-panel'), { attributes: true, childList: true, subtree: true });\n"
      ],
      "text/plain": [
       "<IPython.core.display.Javascript object>"
      ]
     },
     "metadata": {},
     "output_type": "display_data"
    }
   ],
   "source": [
    "%%js\n",
    "window.copyToClipboard = function(text) {\n",
    "    const input = document.createElement('textarea');\n",
    "    input.value = text;\n",
    "    document.body.appendChild(input)\n",
    "    input.select();\n",
    "    document.execCommand('copy');\n",
    "    document.body.removeChild(input);\n",
    "}\n",
    "\n",
    "let observer = new MutationObserver(function(mutations) {\n",
    "  mutations.forEach(function(mutation) {\n",
    "    if (mutation.addedNodes.length == 1) {\n",
    "      let node = mutation.addedNodes[0];\n",
    "      try{if (node.dataset.mimeType == \"text/markdown\") {\n",
    "        setTimeout(function() {\n",
    "          node.querySelector(\".copy-button\")\n",
    "              .setAttribute('onclick', 'copyToClipboard(this.previousElementSibling.innerText)');\n",
    "        }, 100);  // may it need more delay if met fail for setAttribute to null\n",
    "      }}catch{}\n",
    "    }\n",
    "  });\n",
    "});\n",
    "\n",
    "observer.observe(document.querySelector('#jp-main-dock-panel'), { attributes: true, childList: true, subtree: true });"
   ]
  },
  {
   "cell_type": "code",
   "execution_count": null,
   "id": "28a29756-4aaa-4356-8725-53bf3343453f",
   "metadata": {},
   "outputs": [],
   "source": []
  }
 ],
 "metadata": {
  "kernelspec": {
   "display_name": "Python 3 (ipykernel)",
   "language": "python",
   "name": "python3"
  },
  "language_info": {
   "codemirror_mode": {
    "name": "ipython",
    "version": 3
   },
   "file_extension": ".py",
   "mimetype": "text/x-python",
   "name": "python",
   "nbconvert_exporter": "python",
   "pygments_lexer": "ipython3",
   "version": "3.11.5"
  }
 },
 "nbformat": 4,
 "nbformat_minor": 5
}
